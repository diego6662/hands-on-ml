{
 "cells": [
  {
   "cell_type": "markdown",
   "metadata": {
    "id": "jN_WSY_mdz0c"
   },
   "source": [
    "## Chapter 11 deep learning exercises"
   ]
  },
  {
   "cell_type": "markdown",
   "metadata": {
    "id": "eiCTYeTSeW7t"
   },
   "source": [
    "exercise 8a.\n",
    "- Build a DNN with 20 hidden layer of 100 neurons\n",
    "- Use He initialization\n",
    "- Use ELU activation"
   ]
  },
  {
   "cell_type": "code",
   "execution_count": 1,
   "metadata": {},
   "outputs": [
    {
     "name": "stdout",
     "output_type": "stream",
     "text": [
      "Collecting numpy\n",
      "  Downloading numpy-1.20.3-cp37-cp37m-manylinux_2_12_x86_64.manylinux2010_x86_64.whl (15.3 MB)\n",
      "\u001b[K     |████████████████████████████████| 15.3 MB 1.2 MB/s eta 0:00:01\n",
      "\u001b[31mERROR: tensorflow-rocm 2.4.3 has requirement numpy~=1.19.2, but you'll have numpy 1.20.3 which is incompatible.\u001b[0m\n",
      "\u001b[?25hInstalling collected packages: numpy\n",
      "  Attempting uninstall: numpy\n",
      "    Found existing installation: numpy 1.19.5\n",
      "    Uninstalling numpy-1.19.5:\n",
      "      Successfully uninstalled numpy-1.19.5\n",
      "Successfully installed numpy-1.20.3\n"
     ]
    }
   ],
   "source": [
    "!pip install numpy --upgrade\n"
   ]
  },
  {
   "cell_type": "code",
   "execution_count": null,
   "metadata": {
    "colab": {
     "base_uri": "https://localhost:8080/"
    },
    "id": "Vhm5W-47dm_f",
    "outputId": "c69c266c-6226-4854-88ef-b987dd4a0093"
   },
   "outputs": [
    {
     "name": "stdout",
     "output_type": "stream",
     "text": [
      "Downloading data from https://www.cs.toronto.edu/~kriz/cifar-10-python.tar.gz\n",
      " 28401664/170498071 [===>..........................] - ETA: 2:14"
     ]
    }
   ],
   "source": [
    "import numpy\n",
    "from tensorflow.keras.datasets import cifar10\n",
    "\n",
    "(X_train, y_train), (X_test, y_test) = cifar10.load_data()"
   ]
  },
  {
   "cell_type": "code",
   "execution_count": 1,
   "metadata": {
    "colab": {
     "base_uri": "https://localhost:8080/"
    },
    "id": "c1DYdF-DhE2a",
    "outputId": "f3620c55-4f9c-4bb5-aef7-1b9226a29ed2"
   },
   "outputs": [
    {
     "ename": "NameError",
     "evalue": "name 'X_train' is not defined",
     "output_type": "error",
     "traceback": [
      "\u001b[0;31m---------------------------------------------------------------------------\u001b[0m",
      "\u001b[0;31mNameError\u001b[0m                                 Traceback (most recent call last)",
      "\u001b[0;32m<ipython-input-1-cd9f10078978>\u001b[0m in \u001b[0;36m<module>\u001b[0;34m\u001b[0m\n\u001b[1;32m      1\u001b[0m \u001b[0;32mimport\u001b[0m \u001b[0mnumpy\u001b[0m \u001b[0;32mas\u001b[0m \u001b[0mnp\u001b[0m\u001b[0;34m\u001b[0m\u001b[0;34m\u001b[0m\u001b[0m\n\u001b[0;32m----> 2\u001b[0;31m \u001b[0mprint\u001b[0m\u001b[0;34m(\u001b[0m\u001b[0mX_train\u001b[0m\u001b[0;34m.\u001b[0m\u001b[0mshape\u001b[0m\u001b[0;34m)\u001b[0m\u001b[0;34m\u001b[0m\u001b[0;34m\u001b[0m\u001b[0m\n\u001b[0m\u001b[1;32m      3\u001b[0m \u001b[0mprint\u001b[0m\u001b[0;34m(\u001b[0m\u001b[0mnp\u001b[0m\u001b[0;34m.\u001b[0m\u001b[0munique\u001b[0m\u001b[0;34m(\u001b[0m\u001b[0my_train\u001b[0m\u001b[0;34m)\u001b[0m\u001b[0;34m)\u001b[0m\u001b[0;34m\u001b[0m\u001b[0;34m\u001b[0m\u001b[0m\n",
      "\u001b[0;31mNameError\u001b[0m: name 'X_train' is not defined"
     ]
    }
   ],
   "source": [
    "import numpy as np\n",
    "print(X_train.shape)\n",
    "print(np.unique(y_train))"
   ]
  },
  {
   "cell_type": "code",
   "execution_count": 3,
   "metadata": {
    "id": "9L_dY4YQfBz5"
   },
   "outputs": [],
   "source": [
    "from tensorflow.keras import layers, Sequential\n",
    "from tensorflow.keras.initializers import HeNormal\n",
    "def build_dnn():\n",
    "  model = Sequential()\n",
    "  model.add(\n",
    "      layers.Flatten(\n",
    "          input_shape=(32,32,3)\n",
    "\n",
    "      )\n",
    "  )\n",
    "  for i in range(20):\n",
    "    model.add(\n",
    "        layers.Dense(\n",
    "            units=100,\n",
    "            activation='elu',\n",
    "            kernel_initializer = HeNormal()\n",
    "        )\n",
    "    )\n",
    "  model.add(\n",
    "      layers.Dense(units = 10,\n",
    "                   activation = 'softmax',\n",
    "                   kernel_initializer = HeNormal())\n",
    "  )\n",
    "  return model\n"
   ]
  },
  {
   "cell_type": "code",
   "execution_count": 4,
   "metadata": {
    "id": "mecDcY9EjTVe"
   },
   "outputs": [],
   "source": [
    "model = build_dnn()"
   ]
  },
  {
   "cell_type": "markdown",
   "metadata": {
    "id": "n8XCkKcfjloN"
   },
   "source": [
    "exercise 8b use:\n",
    "- Nadam optimization\n",
    "- Early stopping\n",
    "- Search the right learning rate"
   ]
  },
  {
   "cell_type": "code",
   "execution_count": 5,
   "metadata": {
    "id": "fcdmDz1Z_5YY"
   },
   "outputs": [],
   "source": [
    "from sklearn.model_selection import  train_test_split\n",
    "\n",
    "X_train, X_val, y_train, y_val = train_test_split(X_train,y_train, test_size=0.3, random_state=42)"
   ]
  },
  {
   "cell_type": "code",
   "execution_count": 6,
   "metadata": {
    "id": "bhi8erN14HYk"
   },
   "outputs": [],
   "source": [
    "from tensorflow.keras.utils import to_categorical\n",
    "num_classes = 10\n",
    "y_train = to_categorical(y_train, num_classes)\n",
    "y_test = to_categorical(y_test, num_classes)\n",
    "y_val = to_categorical(y_val, num_classes)\n",
    "X_train = X_train.astype('float32') / 255\n",
    "X_test = X_test.astype('float32') / 255\n",
    "X_val = X_val.astype('float32') / 255"
   ]
  },
  {
   "cell_type": "code",
   "execution_count": 7,
   "metadata": {
    "colab": {
     "base_uri": "https://localhost:8080/"
    },
    "id": "Tgaue9vTjXfE",
    "outputId": "64af2557-7b95-4e3e-da5a-01022a658766"
   },
   "outputs": [
    {
     "name": "stdout",
     "output_type": "stream",
     "text": [
      "Epoch 1/200\n",
      "1094/1094 [==============================] - 17s 10ms/step - loss: 84639449088.0000 - accuracy: 0.1005 - val_loss: 2.3144 - val_accuracy: 0.0982\n",
      "Epoch 2/200\n",
      "1094/1094 [==============================] - 10s 9ms/step - loss: 2.3108 - accuracy: 0.1007 - val_loss: 2.3075 - val_accuracy: 0.0977\n",
      "Epoch 3/200\n",
      "1094/1094 [==============================] - 10s 9ms/step - loss: 2.3123 - accuracy: 0.1013 - val_loss: 2.3071 - val_accuracy: 0.1031\n",
      "Epoch 4/200\n",
      "1094/1094 [==============================] - 11s 10ms/step - loss: 2.3123 - accuracy: 0.0998 - val_loss: 2.3089 - val_accuracy: 0.1031\n",
      "Epoch 5/200\n",
      "1094/1094 [==============================] - 10s 10ms/step - loss: 2.3128 - accuracy: 0.0994 - val_loss: 2.3167 - val_accuracy: 0.1028\n",
      "Epoch 6/200\n",
      "1094/1094 [==============================] - 10s 9ms/step - loss: 2.3131 - accuracy: 0.1006 - val_loss: 2.3275 - val_accuracy: 0.0977\n",
      "Epoch 7/200\n",
      "1094/1094 [==============================] - 11s 10ms/step - loss: 2.3136 - accuracy: 0.0993 - val_loss: 2.3065 - val_accuracy: 0.1030\n",
      "Epoch 8/200\n",
      "1094/1094 [==============================] - 11s 10ms/step - loss: 2.3139 - accuracy: 0.0986 - val_loss: 2.3144 - val_accuracy: 0.0958\n",
      "Epoch 9/200\n",
      "1094/1094 [==============================] - 10s 10ms/step - loss: 2.3140 - accuracy: 0.0959 - val_loss: 2.3060 - val_accuracy: 0.1031\n",
      "Epoch 10/200\n",
      "1094/1094 [==============================] - 11s 10ms/step - loss: 2.3130 - accuracy: 0.1014 - val_loss: 2.3232 - val_accuracy: 0.0985\n",
      "Epoch 11/200\n",
      "1094/1094 [==============================] - 10s 9ms/step - loss: 2.3133 - accuracy: 0.0989 - val_loss: 2.3063 - val_accuracy: 0.1031\n",
      "Epoch 12/200\n",
      "1094/1094 [==============================] - 10s 9ms/step - loss: 2.3116 - accuracy: 0.0985 - val_loss: 2.3210 - val_accuracy: 0.0994\n",
      "Epoch 13/200\n",
      "1094/1094 [==============================] - 11s 10ms/step - loss: 2.3110 - accuracy: 0.1020 - val_loss: 2.3073 - val_accuracy: 0.1000\n",
      "Epoch 14/200\n",
      "1094/1094 [==============================] - 11s 10ms/step - loss: 2.3100 - accuracy: 0.1039 - val_loss: 2.3061 - val_accuracy: 0.0977\n",
      "Epoch 15/200\n",
      "1094/1094 [==============================] - 10s 9ms/step - loss: 2.3094 - accuracy: 0.1017 - val_loss: 2.3046 - val_accuracy: 0.0985\n",
      "Epoch 16/200\n",
      "1094/1094 [==============================] - 10s 9ms/step - loss: 2.3096 - accuracy: 0.0966 - val_loss: 2.3114 - val_accuracy: 0.0977\n",
      "Epoch 17/200\n",
      "1094/1094 [==============================] - 10s 10ms/step - loss: 2.3094 - accuracy: 0.0991 - val_loss: 2.3066 - val_accuracy: 0.0977\n",
      "Epoch 18/200\n",
      "1094/1094 [==============================] - 10s 9ms/step - loss: 2.3085 - accuracy: 0.0996 - val_loss: 2.3080 - val_accuracy: 0.0985\n",
      "Epoch 19/200\n",
      "1094/1094 [==============================] - 11s 10ms/step - loss: 2.3082 - accuracy: 0.1008 - val_loss: 2.3106 - val_accuracy: 0.1000\n",
      "Epoch 20/200\n",
      "1094/1094 [==============================] - 11s 10ms/step - loss: 2.3079 - accuracy: 0.0982 - val_loss: 2.3092 - val_accuracy: 0.1030\n",
      "Epoch 21/200\n",
      "1094/1094 [==============================] - 11s 10ms/step - loss: 2.3070 - accuracy: 0.0978 - val_loss: 2.3045 - val_accuracy: 0.0985\n",
      "Epoch 22/200\n",
      "1094/1094 [==============================] - 10s 10ms/step - loss: 2.3068 - accuracy: 0.1039 - val_loss: 2.3048 - val_accuracy: 0.0958\n",
      "Epoch 23/200\n",
      "1094/1094 [==============================] - 11s 10ms/step - loss: 2.3067 - accuracy: 0.0993 - val_loss: 2.3067 - val_accuracy: 0.0982\n",
      "Epoch 24/200\n",
      "1094/1094 [==============================] - 11s 10ms/step - loss: 2.3069 - accuracy: 0.0961 - val_loss: 2.3075 - val_accuracy: 0.1030\n",
      "Epoch 25/200\n",
      "1094/1094 [==============================] - 11s 10ms/step - loss: 2.3066 - accuracy: 0.0988 - val_loss: 2.3037 - val_accuracy: 0.1030\n",
      "Epoch 26/200\n",
      "1094/1094 [==============================] - 11s 10ms/step - loss: 2.3068 - accuracy: 0.1005 - val_loss: 2.3087 - val_accuracy: 0.1031\n",
      "Epoch 27/200\n",
      "1094/1094 [==============================] - 11s 10ms/step - loss: 2.3066 - accuracy: 0.0984 - val_loss: 2.3061 - val_accuracy: 0.1030\n",
      "Epoch 28/200\n",
      "1094/1094 [==============================] - 11s 10ms/step - loss: 2.3076 - accuracy: 0.1023 - val_loss: 2.3105 - val_accuracy: 0.0977\n",
      "Epoch 29/200\n",
      "1094/1094 [==============================] - 10s 10ms/step - loss: 2.3081 - accuracy: 0.1010 - val_loss: 2.3044 - val_accuracy: 0.0977\n",
      "Epoch 30/200\n",
      "1094/1094 [==============================] - 11s 10ms/step - loss: 2.3097 - accuracy: 0.0983 - val_loss: 2.3107 - val_accuracy: 0.0977\n",
      "Epoch 31/200\n",
      "1094/1094 [==============================] - 10s 10ms/step - loss: 2.3112 - accuracy: 0.0978 - val_loss: 2.3100 - val_accuracy: 0.0982\n",
      "Epoch 32/200\n",
      "1094/1094 [==============================] - 11s 10ms/step - loss: 2.3127 - accuracy: 0.0981 - val_loss: 2.3090 - val_accuracy: 0.0977\n",
      "Epoch 33/200\n",
      "1094/1094 [==============================] - 10s 9ms/step - loss: 2.3127 - accuracy: 0.0982 - val_loss: 2.3092 - val_accuracy: 0.0985\n",
      "Epoch 34/200\n",
      "1094/1094 [==============================] - 10s 10ms/step - loss: 2.3130 - accuracy: 0.0989 - val_loss: 2.3149 - val_accuracy: 0.1016\n",
      "Epoch 35/200\n",
      "1094/1094 [==============================] - 11s 10ms/step - loss: 2.3130 - accuracy: 0.1010 - val_loss: 2.3079 - val_accuracy: 0.0982\n"
     ]
    }
   ],
   "source": [
    "from tensorflow.keras.callbacks import EarlyStopping, LearningRateScheduler\n",
    "import tensorflow as tf\n",
    "from tensorflow.keras.optimizers import Nadam\n",
    "def learning_rate(epoch,learning_rate):\n",
    "  if epoch < 10:\n",
    "    return learning_rate\n",
    "  else:\n",
    "    return learning_rate * tf.math.exp(-0.1)\n",
    "\n",
    "early_stopping = EarlyStopping(patience=10)\n",
    "scheduler = LearningRateScheduler(learning_rate)\n",
    "\n",
    "model.compile(optimizer=Nadam(learning_rate=0.1),\n",
    "              loss=\"categorical_crossentropy\",\n",
    "              metrics=['accuracy'])\n",
    "history_b = model.fit(X_train,\n",
    "          y_train,\n",
    "          epochs=200,\n",
    "          validation_data = (X_val,y_val),\n",
    "          callbacks=[early_stopping,scheduler])\n",
    "\n"
   ]
  },
  {
   "cell_type": "code",
   "execution_count": 8,
   "metadata": {
    "colab": {
     "base_uri": "https://localhost:8080/",
     "height": 290
    },
    "id": "Ai8odpUuzirV",
    "outputId": "4704311d-c0a3-4f73-c745-91e0e0673efd"
   },
   "outputs": [
    {
     "data": {
      "image/png": "[encoded data removed]",
      "text/plain": [
       "<Figure size 432x288 with 1 Axes>"
      ]
     },
     "metadata": {
      "needs_background": "light",
      "tags": []
     },
     "output_type": "display_data"
    }
   ],
   "source": [
    "import matplotlib.pyplot as plt\n",
    "\n",
    "loss_values = history_b.history['loss']\n",
    "accuracy = history_b.history['accuracy']\n",
    "epochs = range(1, len(loss_values) + 1)\n",
    "\n",
    "plt.plot(epochs, loss_values, label='Training Loss')\n",
    "plt.xlabel('Epochs')\n",
    "plt.ylabel('Loss')\n",
    "plt.legend()\n",
    "\n",
    "\n",
    "plt.show()"
   ]
  },
  {
   "cell_type": "markdown",
   "metadata": {
    "id": "jMNz_vjnHHo0"
   },
   "source": [
    "exercise 8c.\n",
    "- Add batchnormalization\n",
    "- Compare the learning curves\n",
    "answer this question\n",
    "- Is it converging faster than before?\n",
    "- Does it produce a better model?\n",
    "- How does it affect training speed?"
   ]
  },
  {
   "cell_type": "code",
   "execution_count": 9,
   "metadata": {
    "id": "AZfIdi1OHnhH"
   },
   "outputs": [],
   "source": [
    "def build_dnn_2():\n",
    "  model = Sequential()\n",
    "  model.add(\n",
    "      layers.Flatten(\n",
    "          input_shape=(32,32,3)\n",
    "\n",
    "      )\n",
    "  )\n",
    "  model.add(\n",
    "      layers.BatchNormalization()\n",
    "  )\n",
    "  for i in range(20):\n",
    "    model.add(\n",
    "        layers.Dense(\n",
    "            units=100,\n",
    "            activation='elu',\n",
    "            kernel_initializer = HeNormal()\n",
    "        )\n",
    "    )\n",
    "    model.add(\n",
    "      layers.BatchNormalization()\n",
    "  )\n",
    "  model.add(\n",
    "      layers.Dense(units = 10,\n",
    "                   activation = 'softmax',\n",
    "                   kernel_initializer = HeNormal())\n",
    "  )\n",
    "  return model\n"
   ]
  },
  {
   "cell_type": "code",
   "execution_count": 10,
   "metadata": {
    "id": "QkBzjyifIT4b"
   },
   "outputs": [],
   "source": [
    "model_c = build_dnn_2()"
   ]
  },
  {
   "cell_type": "code",
   "execution_count": 11,
   "metadata": {
    "colab": {
     "base_uri": "https://localhost:8080/"
    },
    "id": "Te7lnfkLIWcM",
    "outputId": "b9d06305-b94e-4884-9c84-d7a7224e0a36"
   },
   "outputs": [
    {
     "name": "stdout",
     "output_type": "stream",
     "text": [
      "Epoch 1/200\n",
      "1094/1094 [==============================] - 36s 26ms/step - loss: 2.2188 - accuracy: 0.1551 - val_loss: 3752.8745 - val_accuracy: 0.0565\n",
      "Epoch 2/200\n",
      "1094/1094 [==============================] - 28s 26ms/step - loss: 2.1304 - accuracy: 0.1697 - val_loss: 8448303200691290112.0000 - val_accuracy: 0.0971\n",
      "Epoch 3/200\n",
      "1094/1094 [==============================] - 28s 26ms/step - loss: 2.1119 - accuracy: 0.1697 - val_loss: nan - val_accuracy: 0.1180\n",
      "Epoch 4/200\n",
      "1094/1094 [==============================] - 27s 24ms/step - loss: 3.0745 - accuracy: 0.1400 - val_loss: 118969606524344546803129570557952.0000 - val_accuracy: 0.1407\n",
      "Epoch 5/200\n",
      "1094/1094 [==============================] - 26s 24ms/step - loss: 2.0712 - accuracy: 0.1843 - val_loss: nan - val_accuracy: 0.1873\n",
      "Epoch 6/200\n",
      "1094/1094 [==============================] - 28s 26ms/step - loss: 2.0033 - accuracy: 0.2223 - val_loss: nan - val_accuracy: 0.2123\n",
      "Epoch 7/200\n",
      "1094/1094 [==============================] - 27s 25ms/step - loss: 1.9658 - accuracy: 0.2441 - val_loss: nan - val_accuracy: 0.2476\n",
      "Epoch 8/200\n",
      "1094/1094 [==============================] - 27s 25ms/step - loss: 1.9519 - accuracy: 0.2517 - val_loss: nan - val_accuracy: 0.2203\n",
      "Epoch 9/200\n",
      "1094/1094 [==============================] - 27s 24ms/step - loss: 1.9361 - accuracy: 0.2620 - val_loss: nan - val_accuracy: 0.1858\n",
      "Epoch 10/200\n",
      "1094/1094 [==============================] - 26s 24ms/step - loss: 1.9093 - accuracy: 0.2710 - val_loss: nan - val_accuracy: 0.2718\n",
      "Epoch 11/200\n",
      "1094/1094 [==============================] - 27s 25ms/step - loss: 1.8904 - accuracy: 0.2808 - val_loss: nan - val_accuracy: 0.2056\n"
     ]
    }
   ],
   "source": [
    "\n",
    "model_c.compile(optimizer=Nadam(learning_rate=0.1),\n",
    "              loss=\"categorical_crossentropy\",\n",
    "              metrics=['accuracy'])\n",
    "history_c = model_c.fit(X_train,\n",
    "          y_train,\n",
    "          epochs=200,\n",
    "          validation_data = (X_val,y_val),\n",
    "          callbacks=[early_stopping,scheduler])\n"
   ]
  },
  {
   "cell_type": "code",
   "execution_count": 12,
   "metadata": {
    "colab": {
     "base_uri": "https://localhost:8080/",
     "height": 296
    },
    "id": "7sMcDeVUIg6d",
    "outputId": "a1c531be-0014-4671-f425-6babea5dc907"
   },
   "outputs": [
    {
     "data": {
      "text/plain": [
       "<matplotlib.legend.Legend at 0x7f61d21eacd0>"
      ]
     },
     "execution_count": 12,
     "metadata": {
      "tags": []
     },
     "output_type": "execute_result"
    },
    {
     "data": {
      "image/png": "[encoded data removed]",
      "text/plain": [
       "<Figure size 432x288 with 1 Axes>"
      ]
     },
     "metadata": {
      "needs_background": "light",
      "tags": []
     },
     "output_type": "display_data"
    }
   ],
   "source": [
    "loss_values = history_c.history['loss']\n",
    "#accuracy = history_b.history['accuracy']\n",
    "epochs = range(1, len(loss_values) + 1)\n",
    "\n",
    "plt.plot(epochs, loss_values, label='Training Loss')\n",
    "plt.xlabel('Epochs')\n",
    "plt.ylabel('Loss')\n",
    "plt.legend()"
   ]
  },
  {
   "cell_type": "markdown",
   "metadata": {
    "id": "TB4ca8pZJ39k"
   },
   "source": [
    "- Is it converging faster than before?: Yes reach the \"minimum\" in few iteration compared with the last model\n",
    "- Does it produce a better model?: Yes, this model have a better accuracy in a train and validation set\n",
    "- How does it affect training speed? to send the values in a norm distribution is more easy training is like normalize the data for all layer"
   ]
  },
  {
   "cell_type": "markdown",
   "metadata": {
    "id": "vrdpOPEhweY6"
   },
   "source": [
    "exercise 8d:\n",
    "- Replace batch normalization by SELU\n",
    "- Use lecun initialization\n",
    "- Standarize the data"
   ]
  },
  {
   "cell_type": "code",
   "execution_count": 16,
   "metadata": {
    "id": "sK5bAq2xxPxv"
   },
   "outputs": [],
   "source": [
    "# Standarize the data \n",
    "from sklearn.preprocessing import StandardScaler\n",
    "\n",
    "scaler = StandardScaler()\n",
    "n_sample, nx, ny, ch = X_train.shape\n",
    "X_train_std = scaler.fit_transform(X_train.reshape((n_sample, nx * ny * ch)))\n",
    "n_sample, nx, ny, ch = X_val.shape\n",
    "X_val_std = scaler.transform(X_val.reshape((n_sample, nx * ny * ch)))"
   ]
  },
  {
   "cell_type": "code",
   "execution_count": 31,
   "metadata": {
    "id": "U_hMfhTmyMFk"
   },
   "outputs": [],
   "source": [
    "from tensorflow.keras.initializers import lecun_normal\n",
    "def build_dnn_3():\n",
    "  model = Sequential()\n",
    "  model.add(\n",
    "      layers.Flatten(\n",
    "          input_shape=((3072,))\n",
    "\n",
    "      )\n",
    "  )\n",
    "  \n",
    "  for i in range(20):\n",
    "    model.add(\n",
    "        layers.Dense(\n",
    "            units=100,\n",
    "            activation='selu',\n",
    "            kernel_initializer = lecun_normal()\n",
    "        )\n",
    "    )\n",
    "  \n",
    "  model.add(\n",
    "      layers.Dense(units = 10,\n",
    "                   activation = 'softmax',\n",
    "                   kernel_initializer = HeNormal())\n",
    "  )\n",
    "  return model\n"
   ]
  },
  {
   "cell_type": "code",
   "execution_count": 32,
   "metadata": {
    "id": "bK5Jv2_2zpjy"
   },
   "outputs": [],
   "source": [
    "model_d = build_dnn_3()"
   ]
  },
  {
   "cell_type": "code",
   "execution_count": 25,
   "metadata": {
    "colab": {
     "base_uri": "https://localhost:8080/"
    },
    "id": "9h-0jnc3z-rD",
    "outputId": "d70c79bb-ba4c-40a7-c64d-2ec7fa065d72"
   },
   "outputs": [
    {
     "data": {
      "text/plain": [
       "(3072,)"
      ]
     },
     "execution_count": 25,
     "metadata": {
      "tags": []
     },
     "output_type": "execute_result"
    }
   ],
   "source": [
    "X_train_std[0].shape"
   ]
  },
  {
   "cell_type": "code",
   "execution_count": 38,
   "metadata": {
    "colab": {
     "base_uri": "https://localhost:8080/"
    },
    "id": "dkcQnco0zr2D",
    "outputId": "7e922815-35a4-41cb-e44e-92cea8ce1cf8"
   },
   "outputs": [
    {
     "name": "stdout",
     "output_type": "stream",
     "text": [
      "Epoch 1/200\n",
      "1094/1094 [==============================] - 13s 9ms/step - loss: 5386988544.0000 - accuracy: 0.0997 - val_loss: 2.3088 - val_accuracy: 0.0994\n",
      "Epoch 2/200\n",
      "1094/1094 [==============================] - 11s 10ms/step - loss: 2.3185 - accuracy: 0.0976 - val_loss: 2.3224 - val_accuracy: 0.0977\n",
      "Epoch 3/200\n",
      "1094/1094 [==============================] - 10s 9ms/step - loss: 2.3211 - accuracy: 0.1005 - val_loss: 2.3163 - val_accuracy: 0.0982\n",
      "Epoch 4/200\n",
      "1094/1094 [==============================] - 10s 9ms/step - loss: 2.3226 - accuracy: 0.1006 - val_loss: 2.3118 - val_accuracy: 0.1028\n",
      "Epoch 5/200\n",
      "1094/1094 [==============================] - 10s 9ms/step - loss: 2.3246 - accuracy: 0.0966 - val_loss: 2.3240 - val_accuracy: 0.0985\n",
      "Epoch 6/200\n",
      "1094/1094 [==============================] - 10s 9ms/step - loss: 2.3253 - accuracy: 0.0996 - val_loss: 2.3242 - val_accuracy: 0.0994\n",
      "Epoch 7/200\n",
      "1094/1094 [==============================] - 10s 9ms/step - loss: 2.3255 - accuracy: 0.0998 - val_loss: 2.3161 - val_accuracy: 0.0982\n",
      "Epoch 8/200\n",
      "1094/1094 [==============================] - 10s 9ms/step - loss: 2.3252 - accuracy: 0.1006 - val_loss: 2.3322 - val_accuracy: 0.0977\n",
      "Epoch 9/200\n",
      "1094/1094 [==============================] - 10s 9ms/step - loss: 2.3249 - accuracy: 0.1001 - val_loss: 2.3277 - val_accuracy: 0.0994\n",
      "Epoch 10/200\n",
      "1094/1094 [==============================] - 10s 9ms/step - loss: 2.3257 - accuracy: 0.1011 - val_loss: 2.3230 - val_accuracy: 0.1031\n",
      "Epoch 11/200\n",
      "1094/1094 [==============================] - 10s 9ms/step - loss: 2.3242 - accuracy: 0.0995 - val_loss: 2.3153 - val_accuracy: 0.1016\n"
     ]
    }
   ],
   "source": [
    "model_d.compile(optimizer=Nadam(learning_rate=0.1),\n",
    "              loss=\"categorical_crossentropy\",\n",
    "              metrics=['accuracy'])\n",
    "history_d = model_d.fit(X_train_std,\n",
    "          y_train,\n",
    "          epochs=200,\n",
    "          validation_data = (X_val_std,y_val),\n",
    "          callbacks=[early_stopping,scheduler])\n"
   ]
  },
  {
   "cell_type": "code",
   "execution_count": 39,
   "metadata": {
    "colab": {
     "base_uri": "https://localhost:8080/",
     "height": 307
    },
    "id": "rIZVz2uSz1UK",
    "outputId": "0f3546ef-baf1-42f8-ec6a-fb2b54f29176"
   },
   "outputs": [
    {
     "data": {
      "text/plain": [
       "<matplotlib.legend.Legend at 0x7f61c438d790>"
      ]
     },
     "execution_count": 39,
     "metadata": {
      "tags": []
     },
     "output_type": "execute_result"
    },
    {
     "data": {
      "image/png": "[encoded data removed]",
      "text/plain": [
       "<Figure size 432x288 with 1 Axes>"
      ]
     },
     "metadata": {
      "needs_background": "light",
      "tags": []
     },
     "output_type": "display_data"
    }
   ],
   "source": [
    "loss_values = history_d.history['loss']\n",
    "#accuracy = history_b.history['accuracy']\n",
    "epochs = range(1, len(loss_values) + 1)\n",
    "\n",
    "plt.plot(epochs, loss_values, label='Training Loss')\n",
    "plt.xlabel('Epochs')\n",
    "plt.ylabel('Loss')\n",
    "plt.legend()"
   ]
  },
  {
   "cell_type": "markdown",
   "metadata": {
    "id": "wuEfdav82HSG"
   },
   "source": [
    "exercise 8e.\n",
    "- Regularize the model with dropout\n",
    "- See if using MC dropout can achieve better accuracy"
   ]
  },
  {
   "cell_type": "code",
   "execution_count": 59,
   "metadata": {
    "id": "DNPX24AQ2YZE"
   },
   "outputs": [],
   "source": [
    "from tensorflow.keras.initializers import lecun_uniform\n",
    "def build_dnn_4():\n",
    "  model = Sequential()\n",
    "  model.add(\n",
    "      layers.Flatten(\n",
    "          input_shape=((3072,))\n",
    "\n",
    "      )\n",
    "  )\n",
    "  \n",
    "  for i in range(20):\n",
    "    model.add(\n",
    "        layers.Dense(\n",
    "            units=100,\n",
    "            activation='selu',\n",
    "            kernel_initializer = lecun_normal()\n",
    "        )\n",
    "    )\n",
    "    model.add(\n",
    "        layers.Dropout(0.4)\n",
    "    )  \n",
    "  model.add(\n",
    "      layers.Dense(units = 10,\n",
    "                   activation = 'softmax',\n",
    "                   kernel_initializer = HeNormal())\n",
    "  )\n",
    "  return model\n"
   ]
  },
  {
   "cell_type": "code",
   "execution_count": 60,
   "metadata": {
    "id": "xBol3BI62qII"
   },
   "outputs": [],
   "source": [
    "model_e = build_dnn_4()"
   ]
  },
  {
   "cell_type": "code",
   "execution_count": 61,
   "metadata": {
    "colab": {
     "base_uri": "https://localhost:8080/"
    },
    "id": "OEBXaeal2tmW",
    "outputId": "0fe646d2-ec16-42ce-e803-1320e0bd4d83"
   },
   "outputs": [
    {
     "name": "stdout",
     "output_type": "stream",
     "text": [
      "Epoch 1/200\n",
      "1094/1094 [==============================] - 18s 13ms/step - loss: 731976780742656.0000 - accuracy: 0.1017 - val_loss: 16.6152 - val_accuracy: 0.0985\n",
      "Epoch 2/200\n",
      "1094/1094 [==============================] - 14s 13ms/step - loss: 20282864943759360.0000 - accuracy: 0.0942 - val_loss: 11.1610 - val_accuracy: 0.0958\n",
      "Epoch 3/200\n",
      "1094/1094 [==============================] - 13s 12ms/step - loss: 52840013758464.0000 - accuracy: 0.1023 - val_loss: 12.0874 - val_accuracy: 0.1016\n",
      "Epoch 4/200\n",
      "1094/1094 [==============================] - 14s 13ms/step - loss: 89421511160496128.0000 - accuracy: 0.1016 - val_loss: 9.5417 - val_accuracy: 0.0994\n",
      "Epoch 5/200\n",
      "1094/1094 [==============================] - 14s 12ms/step - loss: 94978972204685852672.0000 - accuracy: 0.0992 - val_loss: 5.9091 - val_accuracy: 0.0994\n",
      "Epoch 6/200\n",
      "1094/1094 [==============================] - 14s 13ms/step - loss: 980606263492608.0000 - accuracy: 0.0990 - val_loss: 4.7057 - val_accuracy: 0.0985\n",
      "Epoch 7/200\n",
      "1094/1094 [==============================] - 14s 13ms/step - loss: 7.0372 - accuracy: 0.0998 - val_loss: 6.7178 - val_accuracy: 0.0994\n",
      "Epoch 8/200\n",
      "1094/1094 [==============================] - 13s 12ms/step - loss: 720665413137989632.0000 - accuracy: 0.1001 - val_loss: 6.4417 - val_accuracy: 0.0982\n",
      "Epoch 9/200\n",
      "1094/1094 [==============================] - 14s 13ms/step - loss: 6.3143 - accuracy: 0.1008 - val_loss: 4.3593 - val_accuracy: 0.0958\n",
      "Epoch 10/200\n",
      "1094/1094 [==============================] - 13s 12ms/step - loss: 99616878757937152.0000 - accuracy: 0.0993 - val_loss: 6.4101 - val_accuracy: 0.1000\n",
      "Epoch 11/200\n",
      "1094/1094 [==============================] - 14s 13ms/step - loss: 13754566193446912.0000 - accuracy: 0.0976 - val_loss: 5.4064 - val_accuracy: 0.0982\n",
      "Epoch 12/200\n",
      "1094/1094 [==============================] - 13s 12ms/step - loss: 4.8047 - accuracy: 0.1024 - val_loss: 5.6601 - val_accuracy: 0.0977\n",
      "Epoch 13/200\n",
      "1094/1094 [==============================] - 14s 13ms/step - loss: 580400539762688.0000 - accuracy: 0.1003 - val_loss: 3.6927 - val_accuracy: 0.0977\n",
      "Epoch 14/200\n",
      "1094/1094 [==============================] - 13s 12ms/step - loss: 1617925723127808.0000 - accuracy: 0.0983 - val_loss: 3.3567 - val_accuracy: 0.0982\n",
      "Epoch 15/200\n",
      "1094/1094 [==============================] - 14s 12ms/step - loss: 3.7436 - accuracy: 0.1001 - val_loss: 3.8941 - val_accuracy: 0.1031\n",
      "Epoch 16/200\n",
      "1094/1094 [==============================] - 14s 12ms/step - loss: 8194196842217472.0000 - accuracy: 0.1017 - val_loss: 2.8598 - val_accuracy: 0.1030\n",
      "Epoch 17/200\n",
      "1094/1094 [==============================] - 14s 13ms/step - loss: 60041899041357824.0000 - accuracy: 0.1016 - val_loss: 2.9490 - val_accuracy: 0.1028\n",
      "Epoch 18/200\n",
      "1094/1094 [==============================] - 14s 12ms/step - loss: 3.2309 - accuracy: 0.1000 - val_loss: 2.9528 - val_accuracy: 0.1000\n",
      "Epoch 19/200\n",
      "1094/1094 [==============================] - 14s 13ms/step - loss: 3.1260 - accuracy: 0.0997 - val_loss: 2.9868 - val_accuracy: 0.0977\n",
      "Epoch 20/200\n",
      "1094/1094 [==============================] - 13s 12ms/step - loss: 3.0222 - accuracy: 0.1015 - val_loss: 2.9616 - val_accuracy: 0.1031\n",
      "Epoch 21/200\n",
      "1094/1094 [==============================] - 14s 13ms/step - loss: 2.9471 - accuracy: 0.1001 - val_loss: 2.5922 - val_accuracy: 0.0977\n",
      "Epoch 22/200\n",
      "1094/1094 [==============================] - 13s 12ms/step - loss: 2.8756 - accuracy: 0.0985 - val_loss: 2.6510 - val_accuracy: 0.1016\n",
      "Epoch 23/200\n",
      "1094/1094 [==============================] - 14s 13ms/step - loss: 2.8213 - accuracy: 0.1011 - val_loss: 2.7661 - val_accuracy: 0.1031\n",
      "Epoch 24/200\n",
      "1094/1094 [==============================] - 14s 12ms/step - loss: 2.7726 - accuracy: 0.0987 - val_loss: 2.7253 - val_accuracy: 0.0994\n",
      "Epoch 25/200\n",
      "1094/1094 [==============================] - 14s 13ms/step - loss: 17414390504488960.0000 - accuracy: 0.0983 - val_loss: 2.4933 - val_accuracy: 0.1000\n",
      "Epoch 26/200\n",
      "1094/1094 [==============================] - 14s 13ms/step - loss: 2.6875 - accuracy: 0.1042 - val_loss: 2.4670 - val_accuracy: 0.0985\n",
      "Epoch 27/200\n",
      "1094/1094 [==============================] - 14s 12ms/step - loss: 2.6563 - accuracy: 0.1020 - val_loss: 2.4405 - val_accuracy: 0.1016\n",
      "Epoch 28/200\n",
      "1094/1094 [==============================] - 14s 13ms/step - loss: 272579864559616.0000 - accuracy: 0.1010 - val_loss: 2.3895 - val_accuracy: 0.0982\n",
      "Epoch 29/200\n",
      "1094/1094 [==============================] - 14s 13ms/step - loss: 2.5938 - accuracy: 0.1002 - val_loss: 2.3687 - val_accuracy: 0.1016\n",
      "Epoch 30/200\n",
      "1094/1094 [==============================] - 14s 13ms/step - loss: 2.5746 - accuracy: 0.0976 - val_loss: 2.4884 - val_accuracy: 0.1031\n",
      "Epoch 31/200\n",
      "1094/1094 [==============================] - 14s 12ms/step - loss: 2.5430 - accuracy: 0.1009 - val_loss: 2.3682 - val_accuracy: 0.1016\n",
      "Epoch 32/200\n",
      "1094/1094 [==============================] - 14s 12ms/step - loss: 2.5275 - accuracy: 0.0996 - val_loss: 2.3508 - val_accuracy: 0.0982\n",
      "Epoch 33/200\n",
      "1094/1094 [==============================] - 13s 12ms/step - loss: 2.5104 - accuracy: 0.0993 - val_loss: 2.3906 - val_accuracy: 0.0958\n",
      "Epoch 34/200\n",
      "1094/1094 [==============================] - 13s 12ms/step - loss: 2.4873 - accuracy: 0.1016 - val_loss: 2.3621 - val_accuracy: 0.0958\n",
      "Epoch 35/200\n",
      "1094/1094 [==============================] - 13s 12ms/step - loss: 2.4718 - accuracy: 0.1001 - val_loss: 2.3432 - val_accuracy: 0.1000\n",
      "Epoch 36/200\n",
      "1094/1094 [==============================] - 14s 12ms/step - loss: 59316690944.0000 - accuracy: 0.0987 - val_loss: 2.3970 - val_accuracy: 0.1000\n",
      "Epoch 37/200\n",
      "1094/1094 [==============================] - 14s 13ms/step - loss: 2.4477 - accuracy: 0.0983 - val_loss: 2.3457 - val_accuracy: 0.1031\n",
      "Epoch 38/200\n",
      "1094/1094 [==============================] - 14s 13ms/step - loss: 2.4358 - accuracy: 0.0986 - val_loss: 2.3797 - val_accuracy: 0.0977\n",
      "Epoch 39/200\n",
      "1094/1094 [==============================] - 14s 13ms/step - loss: 2.4243 - accuracy: 0.0972 - val_loss: 2.3680 - val_accuracy: 0.0958\n",
      "Epoch 40/200\n",
      "1094/1094 [==============================] - 14s 13ms/step - loss: 2.4166 - accuracy: 0.1003 - val_loss: 2.4340 - val_accuracy: 0.1000\n",
      "Epoch 41/200\n",
      "1094/1094 [==============================] - 14s 13ms/step - loss: 2.4067 - accuracy: 0.0989 - val_loss: 2.3746 - val_accuracy: 0.0982\n",
      "Epoch 42/200\n",
      "1094/1094 [==============================] - 14s 13ms/step - loss: 2.4000 - accuracy: 0.0990 - val_loss: 2.3659 - val_accuracy: 0.1031\n",
      "Epoch 43/200\n",
      "1094/1094 [==============================] - 14s 13ms/step - loss: 2.3909 - accuracy: 0.0993 - val_loss: 2.3528 - val_accuracy: 0.1016\n",
      "Epoch 44/200\n",
      "1094/1094 [==============================] - 14s 13ms/step - loss: 2.3818 - accuracy: 0.1016 - val_loss: 2.3704 - val_accuracy: 0.1031\n",
      "Epoch 45/200\n",
      "1094/1094 [==============================] - 14s 13ms/step - loss: 13349779668992.0000 - accuracy: 0.0986 - val_loss: 2.3393 - val_accuracy: 0.0994\n",
      "Epoch 46/200\n",
      "1094/1094 [==============================] - 14s 12ms/step - loss: 2.3714 - accuracy: 0.0980 - val_loss: 2.3407 - val_accuracy: 0.0994\n",
      "Epoch 47/200\n",
      "1094/1094 [==============================] - 14s 13ms/step - loss: 2.3653 - accuracy: 0.0982 - val_loss: 2.3395 - val_accuracy: 0.0985\n",
      "Epoch 48/200\n",
      "1094/1094 [==============================] - 14s 13ms/step - loss: 88883517718528.0000 - accuracy: 0.1021 - val_loss: 2.3526 - val_accuracy: 0.0994\n",
      "Epoch 49/200\n",
      "1094/1094 [==============================] - 14s 13ms/step - loss: 2.3525 - accuracy: 0.1010 - val_loss: 2.3309 - val_accuracy: 0.0958\n",
      "Epoch 50/200\n",
      "1094/1094 [==============================] - 14s 13ms/step - loss: 2.3501 - accuracy: 0.0986 - val_loss: 2.3484 - val_accuracy: 0.0982\n",
      "Epoch 51/200\n",
      "1094/1094 [==============================] - 14s 13ms/step - loss: 2.3459 - accuracy: 0.0993 - val_loss: 2.3250 - val_accuracy: 0.1028\n",
      "Epoch 52/200\n",
      "1094/1094 [==============================] - 14s 12ms/step - loss: 2.3433 - accuracy: 0.0979 - val_loss: 2.3258 - val_accuracy: 0.0985\n",
      "Epoch 53/200\n",
      "1094/1094 [==============================] - 14s 13ms/step - loss: 2.3403 - accuracy: 0.0976 - val_loss: 2.3072 - val_accuracy: 0.0958\n",
      "Epoch 54/200\n",
      "1094/1094 [==============================] - 14s 12ms/step - loss: 1340563783680.0000 - accuracy: 0.1013 - val_loss: 2.3108 - val_accuracy: 0.1028\n",
      "Epoch 55/200\n",
      "1094/1094 [==============================] - 14s 13ms/step - loss: 2.3341 - accuracy: 0.1010 - val_loss: 2.3129 - val_accuracy: 0.0977\n",
      "Epoch 56/200\n",
      "1094/1094 [==============================] - 14s 13ms/step - loss: 2.3298 - accuracy: 0.1057 - val_loss: 2.3177 - val_accuracy: 0.0994\n",
      "Epoch 57/200\n",
      "1094/1094 [==============================] - 14s 13ms/step - loss: 2.3286 - accuracy: 0.0996 - val_loss: 2.3100 - val_accuracy: 0.0977\n",
      "Epoch 58/200\n",
      "1094/1094 [==============================] - 14s 12ms/step - loss: 2.3264 - accuracy: 0.1010 - val_loss: 2.3089 - val_accuracy: 0.1030\n",
      "Epoch 59/200\n",
      "1094/1094 [==============================] - 14s 13ms/step - loss: 2.3250 - accuracy: 0.0990 - val_loss: 2.3145 - val_accuracy: 0.0985\n",
      "Epoch 60/200\n",
      "1094/1094 [==============================] - 14s 13ms/step - loss: 2.3214 - accuracy: 0.1003 - val_loss: 2.3093 - val_accuracy: 0.0958\n",
      "Epoch 61/200\n",
      "1094/1094 [==============================] - 14s 13ms/step - loss: 2.3202 - accuracy: 0.1009 - val_loss: 2.3142 - val_accuracy: 0.0994\n",
      "Epoch 62/200\n",
      "1094/1094 [==============================] - 14s 13ms/step - loss: 2.3189 - accuracy: 0.0982 - val_loss: 2.3166 - val_accuracy: 0.0982\n",
      "Epoch 63/200\n",
      "1094/1094 [==============================] - 14s 12ms/step - loss: 2.3170 - accuracy: 0.0984 - val_loss: 2.3239 - val_accuracy: 0.1028\n"
     ]
    }
   ],
   "source": [
    "model_e.compile(optimizer=Nadam(learning_rate=0.1, clipnorm=1),\n",
    "              loss=\"categorical_crossentropy\",\n",
    "              metrics=['accuracy'])\n",
    "history_e = model_e.fit(X_train_std,\n",
    "          y_train,\n",
    "          epochs=200,\n",
    "          validation_data = (X_val_std,y_val),\n",
    "          callbacks=[early_stopping,scheduler])\n"
   ]
  },
  {
   "cell_type": "code",
   "execution_count": 62,
   "metadata": {
    "colab": {
     "base_uri": "https://localhost:8080/",
     "height": 300
    },
    "id": "6ydRrnCa2xEO",
    "outputId": "8ca546b2-b7a2-47e3-a314-9f3de4e08740"
   },
   "outputs": [
    {
     "data": {
      "text/plain": [
       "<matplotlib.legend.Legend at 0x7f61c8358850>"
      ]
     },
     "execution_count": 62,
     "metadata": {
      "tags": []
     },
     "output_type": "execute_result"
    },
    {
     "data": {
      "image/png": "[encoded data removed]",
      "text/plain": [
       "<Figure size 432x288 with 1 Axes>"
      ]
     },
     "metadata": {
      "needs_background": "light",
      "tags": []
     },
     "output_type": "display_data"
    }
   ],
   "source": [
    "loss_values = history_e.history['loss']\n",
    "#accuracy = history_b.history['accuracy']\n",
    "epochs = range(1, len(loss_values) + 1)\n",
    "\n",
    "plt.plot(epochs, loss_values, label='Training Loss')\n",
    "plt.xlabel('Epochs')\n",
    "plt.ylabel('Loss')\n",
    "plt.gca().set_ylim(0,10)\n",
    "plt.legend()"
   ]
  },
  {
   "cell_type": "code",
   "execution_count": null,
   "metadata": {
    "id": "Dsh00p1GHJhp"
   },
   "outputs": [],
   "source": []
  }
 ],
 "metadata": {
  "accelerator": "GPU",
  "colab": {
   "collapsed_sections": [],
   "name": "chapter 11.ipynb",
   "provenance": []
  },
  "kernelspec": {
   "display_name": "Python 3",
   "language": "python",
   "name": "python3"
  },
  "language_info": {
   "codemirror_mode": {
    "name": "ipython",
    "version": 3
   },
   "file_extension": ".py",
   "mimetype": "text/x-python",
   "name": "python",
   "nbconvert_exporter": "python",
   "pygments_lexer": "ipython3",
   "version": "3.7.6"
  }
 },
 "nbformat": 4,
 "nbformat_minor": 1
}
