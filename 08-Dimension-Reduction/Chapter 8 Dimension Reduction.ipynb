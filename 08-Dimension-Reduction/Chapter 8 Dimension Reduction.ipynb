{
 "cells": [
  {
   "cell_type": "markdown",
   "id": "hazardous-entity",
   "metadata": {},
   "source": [
    "## excercise 9"
   ]
  },
  {
   "cell_type": "code",
   "execution_count": 11,
   "id": "baking-hypothetical",
   "metadata": {},
   "outputs": [],
   "source": [
    "from sklearn.datasets import fetch_openml\n",
    "from sklearn.model_selection import train_test_split\n",
    "from sklearn.ensemble import RandomForestClassifier\n",
    "from sklearn.decomposition import PCA\n",
    "from time import time\n",
    "from sklearn.metrics import accuracy_score"
   ]
  },
  {
   "cell_type": "code",
   "execution_count": 2,
   "id": "interesting-essay",
   "metadata": {},
   "outputs": [
    {
     "data": {
      "text/plain": [
       "70000"
      ]
     },
     "execution_count": 2,
     "metadata": {},
     "output_type": "execute_result"
    }
   ],
   "source": [
    "mnist = fetch_openml('mnist_784', version=1)\n",
    "len(mnist['data'])"
   ]
  },
  {
   "cell_type": "code",
   "execution_count": 7,
   "id": "imported-sauce",
   "metadata": {},
   "outputs": [],
   "source": [
    "# split data\n",
    "X_train, X_test, y_train, y_test = train_test_split(mnist['data'],\n",
    "                                                    mnist['target'],\n",
    "                                                    test_size=10000,\n",
    "                                                    random_state=42\n",
    "                                                   )"
   ]
  },
  {
   "cell_type": "markdown",
   "id": "settled-ready",
   "metadata": {},
   "source": [
    "train a random forest without a pca"
   ]
  },
  {
   "cell_type": "code",
   "execution_count": 8,
   "id": "foreign-director",
   "metadata": {},
   "outputs": [
    {
     "name": "stdout",
     "output_type": "stream",
     "text": [
      "training time: 36.233476638793945\n"
     ]
    }
   ],
   "source": [
    "start_time = time()\n",
    "rnd_clf = RandomForestClassifier()\n",
    "rnd_clf.fit(X_train,y_train)\n",
    "print(f'training time: {time() - start_time}')"
   ]
  },
  {
   "cell_type": "code",
   "execution_count": 9,
   "id": "conditional-imagination",
   "metadata": {},
   "outputs": [],
   "source": [
    "y_hat = rnd_clf.predict(X_test)"
   ]
  },
  {
   "cell_type": "code",
   "execution_count": 12,
   "id": "successful-prime",
   "metadata": {},
   "outputs": [
    {
     "name": "stdout",
     "output_type": "stream",
     "text": [
      "0.9676\n"
     ]
    }
   ],
   "source": [
    "accuracy = accuracy_score(y_test,y_hat)\n",
    "print(accuracy)"
   ]
  },
  {
   "cell_type": "markdown",
   "id": "friendly-medicare",
   "metadata": {},
   "source": [
    "train a random forest with PCA"
   ]
  },
  {
   "cell_type": "code",
   "execution_count": 14,
   "id": "offensive-incentive",
   "metadata": {},
   "outputs": [],
   "source": [
    "pca = PCA(n_components= 0.95, random_state=42)\n"
   ]
  },
  {
   "cell_type": "code",
   "execution_count": 15,
   "id": "alternative-cuisine",
   "metadata": {},
   "outputs": [],
   "source": [
    "mnist_pca = pca.fit_transform(mnist['data'])"
   ]
  },
  {
   "cell_type": "code",
   "execution_count": 16,
   "id": "colored-wireless",
   "metadata": {},
   "outputs": [],
   "source": [
    "X_train_pca, X_test_pca, y_train_pca, y_test_pca = train_test_split(mnist_pca,\n",
    "                                                                    mnist['target'],\n",
    "                                                                    test_size=10000,\n",
    "                                                                    random_state=42\n",
    "                                                                   )"
   ]
  },
  {
   "cell_type": "code",
   "execution_count": 17,
   "id": "great-nursery",
   "metadata": {},
   "outputs": [],
   "source": [
    "rnd_clf_pca = RandomForestClassifier()"
   ]
  },
  {
   "cell_type": "code",
   "execution_count": 18,
   "id": "dirty-insider",
   "metadata": {},
   "outputs": [
    {
     "name": "stdout",
     "output_type": "stream",
     "text": [
      "training time: 95.24774694442749\n"
     ]
    }
   ],
   "source": [
    "start_time = time()\n",
    "rnd_clf_pca.fit(X_train_pca,y_train_pca)\n",
    "print(f'training time: {time() - start_time}')\n"
   ]
  },
  {
   "cell_type": "code",
   "execution_count": 19,
   "id": "earlier-asbestos",
   "metadata": {},
   "outputs": [
    {
     "name": "stdout",
     "output_type": "stream",
     "text": [
      "0.9469\n"
     ]
    }
   ],
   "source": [
    "y_hat_pca = rnd_clf_pca.predict(X_test_pca)\n",
    "accuracy = accuracy_score(y_test_pca, y_hat_pca)\n",
    "print(accuracy)"
   ]
  }
 ],
 "metadata": {
  "kernelspec": {
   "display_name": "Python 3",
   "language": "python",
   "name": "python3"
  },
  "language_info": {
   "codemirror_mode": {
    "name": "ipython",
    "version": 3
   },
   "file_extension": ".py",
   "mimetype": "text/x-python",
   "name": "python",
   "nbconvert_exporter": "python",
   "pygments_lexer": "ipython3",
   "version": "3.8.8"
  }
 },
 "nbformat": 4,
 "nbformat_minor": 5
}
