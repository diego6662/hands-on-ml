{
  "nbformat": 4,
  "nbformat_minor": 0,
  "metadata": {
    "kernelspec": {
      "display_name": "Python 3",
      "language": "python",
      "name": "python3"
    },
    "language_info": {
      "codemirror_mode": {
        "name": "ipython",
        "version": 3
      },
      "file_extension": ".py",
      "mimetype": "text/x-python",
      "name": "python",
      "nbconvert_exporter": "python",
      "pygments_lexer": "ipython3",
      "version": "3.8.5"
    },
    "colab": {
      "name": "Copia de classification.ipynb",
      "provenance": []
    },
    "accelerator": "GPU"
  },
  "cells": [
    {
      "cell_type": "markdown",
      "metadata": {
        "id": "HCUUuKHJ74nq"
      },
      "source": [
        "# Chapter 3 classification"
      ]
    },
    {
      "cell_type": "code",
      "metadata": {
        "id": "YN5za0ae74n5"
      },
      "source": [
        "from sklearn.datasets import fetch_openml"
      ],
      "execution_count": null,
      "outputs": []
    },
    {
      "cell_type": "code",
      "metadata": {
        "id": "ei_UA84L74n8"
      },
      "source": [
        "mnist = fetch_openml('mnist_784', version=1)"
      ],
      "execution_count": null,
      "outputs": []
    },
    {
      "cell_type": "code",
      "metadata": {
        "id": "W583qm2b74n9",
        "colab": {
          "base_uri": "https://localhost:8080/"
        },
        "outputId": "a7054130-5c4e-4c61-fdf4-d61800c12798"
      },
      "source": [
        "mnist.keys()"
      ],
      "execution_count": null,
      "outputs": [
        {
          "output_type": "execute_result",
          "data": {
            "text/plain": [
              "dict_keys(['data', 'target', 'frame', 'feature_names', 'target_names', 'DESCR', 'details', 'categories', 'url'])"
            ]
          },
          "metadata": {
            "tags": []
          },
          "execution_count": 3
        }
      ]
    },
    {
      "cell_type": "code",
      "metadata": {
        "id": "ivzcHWNH74n_"
      },
      "source": [
        "X, y = mnist['data'], mnist['target']"
      ],
      "execution_count": null,
      "outputs": []
    },
    {
      "cell_type": "code",
      "metadata": {
        "id": "nBAP9J-174oB",
        "colab": {
          "base_uri": "https://localhost:8080/"
        },
        "outputId": "c556add0-4cc9-4094-b233-1fd6716159a0"
      },
      "source": [
        "X.shape"
      ],
      "execution_count": null,
      "outputs": [
        {
          "output_type": "execute_result",
          "data": {
            "text/plain": [
              "(70000, 784)"
            ]
          },
          "metadata": {
            "tags": []
          },
          "execution_count": 5
        }
      ]
    },
    {
      "cell_type": "code",
      "metadata": {
        "id": "df_g_i4n74oC",
        "colab": {
          "base_uri": "https://localhost:8080/"
        },
        "outputId": "b0a1fdb1-d9bf-4a81-ed98-65f05003c104"
      },
      "source": [
        "y.shape"
      ],
      "execution_count": null,
      "outputs": [
        {
          "output_type": "execute_result",
          "data": {
            "text/plain": [
              "(70000,)"
            ]
          },
          "metadata": {
            "tags": []
          },
          "execution_count": 6
        }
      ]
    },
    {
      "cell_type": "code",
      "metadata": {
        "id": "oLVSKkE374oD"
      },
      "source": [
        "import matplotlib as mpl\n",
        "import matplotlib.pyplot as plt"
      ],
      "execution_count": null,
      "outputs": []
    },
    {
      "cell_type": "code",
      "metadata": {
        "id": "USLUOasT74oE",
        "colab": {
          "base_uri": "https://localhost:8080/",
          "height": 248
        },
        "outputId": "a98ab796-ee38-4222-bd64-3c82c3c218a7"
      },
      "source": [
        "some_digit = X[0]\n",
        "some_digit_image = some_digit.reshape(28,28)\n",
        "\n",
        "plt.imshow(some_digit_image, cmap='binary')\n",
        "plt.axis('off')\n",
        "plt.show()"
      ],
      "execution_count": null,
      "outputs": [
        {
          "output_type": "display_data",
          "data": {
            "image/png": "[encoded data removed]",
            "text/plain": [
              "<Figure size 432x288 with 1 Axes>"
            ]
          },
          "metadata": {
            "tags": [],
            "needs_background": "light"
          }
        }
      ]
    },
    {
      "cell_type": "code",
      "metadata": {
        "id": "fsxCRx2074oF",
        "colab": {
          "base_uri": "https://localhost:8080/",
          "height": 35
        },
        "outputId": "31bd2031-ba0b-4f03-ca77-6d8dc6e62b36"
      },
      "source": [
        "y[0]"
      ],
      "execution_count": null,
      "outputs": [
        {
          "output_type": "execute_result",
          "data": {
            "application/vnd.google.colaboratory.intrinsic+json": {
              "type": "string"
            },
            "text/plain": [
              "'5'"
            ]
          },
          "metadata": {
            "tags": []
          },
          "execution_count": 9
        }
      ]
    },
    {
      "cell_type": "code",
      "metadata": {
        "id": "_ns38TW974oG"
      },
      "source": [
        "import numpy as np\n",
        "y = y.astype(np.uint8)"
      ],
      "execution_count": null,
      "outputs": []
    },
    {
      "cell_type": "code",
      "metadata": {
        "id": "onhaVZDv74oH"
      },
      "source": [
        "from sklearn.model_selection import train_test_split\n",
        "X_train, X_test, y_train, y_test = train_test_split(X, y, test_size=0.3, random_state=42)"
      ],
      "execution_count": null,
      "outputs": []
    },
    {
      "cell_type": "markdown",
      "metadata": {
        "id": "i_9H2H_674oI"
      },
      "source": [
        "## Training a binary classifier\n",
        "for the moment, only build a number 5 classificator"
      ]
    },
    {
      "cell_type": "code",
      "metadata": {
        "id": "qvz49bAv74oJ"
      },
      "source": [
        "y_train_5 = (y_train == 5)\n",
        "y_test_5 = (y_test == 5)\n",
        "#if you want change the value of the classifier change the number after =="
      ],
      "execution_count": null,
      "outputs": []
    },
    {
      "cell_type": "code",
      "metadata": {
        "id": "_xh4Pvge74oJ",
        "colab": {
          "base_uri": "https://localhost:8080/"
        },
        "outputId": "7da30b8e-56d1-4047-c77c-9ed007c7d461"
      },
      "source": [
        "from sklearn.linear_model import SGDClassifier\n",
        "\n",
        "sgd_clf = SGDClassifier(random_state=42)\n",
        "sgd_clf.fit(X_train,y_train_5)"
      ],
      "execution_count": null,
      "outputs": [
        {
          "output_type": "execute_result",
          "data": {
            "text/plain": [
              "SGDClassifier(alpha=0.0001, average=False, class_weight=None,\n",
              "              early_stopping=False, epsilon=0.1, eta0=0.0, fit_intercept=True,\n",
              "              l1_ratio=0.15, learning_rate='optimal', loss='hinge',\n",
              "              max_iter=1000, n_iter_no_change=5, n_jobs=None, penalty='l2',\n",
              "              power_t=0.5, random_state=42, shuffle=True, tol=0.001,\n",
              "              validation_fraction=0.1, verbose=0, warm_start=False)"
            ]
          },
          "metadata": {
            "tags": []
          },
          "execution_count": 13
        }
      ]
    },
    {
      "cell_type": "code",
      "metadata": {
        "id": "15EryzBF74oK",
        "colab": {
          "base_uri": "https://localhost:8080/"
        },
        "outputId": "9b9c7041-141a-4884-fefc-501c9a8c34a3"
      },
      "source": [
        "#some digit is a number five\n",
        "sgd_clf.predict([some_digit])"
      ],
      "execution_count": null,
      "outputs": [
        {
          "output_type": "execute_result",
          "data": {
            "text/plain": [
              "array([ True])"
            ]
          },
          "metadata": {
            "tags": []
          },
          "execution_count": 14
        }
      ]
    },
    {
      "cell_type": "markdown",
      "metadata": {
        "id": "YWdPODUM74oL"
      },
      "source": [
        "## Performance measures"
      ]
    },
    {
      "cell_type": "markdown",
      "metadata": {
        "id": "Gx2Rgzqw74oM"
      },
      "source": [
        "### Measuring accuracy using cross-validation"
      ]
    },
    {
      "cell_type": "code",
      "metadata": {
        "id": "jKxhr2DZ74oN",
        "colab": {
          "base_uri": "https://localhost:8080/"
        },
        "outputId": "4fb34bc9-d4b8-4b10-fe5f-443806582f1d"
      },
      "source": [
        "from sklearn.model_selection import StratifiedKFold\n",
        "from sklearn.base import clone\n",
        "\n",
        "skfolds = StratifiedKFold(n_splits=3, random_state=42)\n",
        "\n",
        "for train_index, test_index in skfolds.split(X_train, y_train_5):\n",
        "    clone_clf = clone(sgd_clf)\n",
        "    X_train_fold = X_train[train_index]\n",
        "    y_train_fold = y_train_5[train_index]\n",
        "    X_test_fold = X_train[test_index]\n",
        "    y_test_fold = y_train_5[test_index]\n",
        "    \n",
        "    clone_clf.fit(X_train_fold,y_train_fold)\n",
        "    y_pred = clone_clf.predict(X_test_fold)\n",
        "    n_correct = sum(y_pred == y_test_fold)\n",
        "    print(n_correct / len(y_pred))"
      ],
      "execution_count": null,
      "outputs": [
        {
          "output_type": "stream",
          "text": [
            "/usr/local/lib/python3.6/dist-packages/sklearn/model_selection/_split.py:296: FutureWarning: Setting a random_state has no effect since shuffle is False. This will raise an error in 0.24. You should leave random_state to its default (None), or set shuffle=True.\n",
            "  FutureWarning\n"
          ],
          "name": "stderr"
        },
        {
          "output_type": "stream",
          "text": [
            "0.9676135667931921\n",
            "0.9631421049409171\n",
            "0.9610604298046899\n"
          ],
          "name": "stdout"
        }
      ]
    },
    {
      "cell_type": "code",
      "metadata": {
        "id": "qw19XCW_74oO",
        "colab": {
          "base_uri": "https://localhost:8080/"
        },
        "outputId": "96b41e1a-d233-476e-ac4b-82ee8d9df6f4"
      },
      "source": [
        "from sklearn.model_selection import cross_val_score\n",
        "cross_val_score(sgd_clf,X_train,y_train_5,cv=3,scoring='accuracy')"
      ],
      "execution_count": null,
      "outputs": [
        {
          "output_type": "execute_result",
          "data": {
            "text/plain": [
              "array([0.96761357, 0.9631421 , 0.96106043])"
            ]
          },
          "metadata": {
            "tags": []
          },
          "execution_count": 16
        }
      ]
    },
    {
      "cell_type": "code",
      "metadata": {
        "id": "SprQVbzT74oO"
      },
      "source": [
        "from sklearn.base import BaseEstimator\n",
        "\n",
        "\n",
        "class Never5Classifier(BaseEstimator):\n",
        "    def fit(self, X, y=None):\n",
        "        return self\n",
        "    \n",
        "    def predict(self, X):\n",
        "        return np.zeros((len(X),1), dtype=bool)"
      ],
      "execution_count": null,
      "outputs": []
    },
    {
      "cell_type": "code",
      "metadata": {
        "id": "hdHos7CG74oP",
        "colab": {
          "base_uri": "https://localhost:8080/"
        },
        "outputId": "2ae33604-070a-4caf-8da6-e2d29863c004"
      },
      "source": [
        "never_5_clf = Never5Classifier()\n",
        "cross_val_score(never_5_clf, X_train, y_train_5, cv=3, scoring='accuracy')"
      ],
      "execution_count": null,
      "outputs": [
        {
          "output_type": "execute_result",
          "data": {
            "text/plain": [
              "array([0.91122811, 0.91024307, 0.90926345])"
            ]
          },
          "metadata": {
            "tags": []
          },
          "execution_count": 18
        }
      ]
    },
    {
      "cell_type": "code",
      "metadata": {
        "id": "-D_KPhSM74oP"
      },
      "source": [
        "from sklearn.model_selection import cross_val_predict\n",
        "y_train_predict = cross_val_predict(sgd_clf,X_train, y_train_5, cv=3)"
      ],
      "execution_count": null,
      "outputs": []
    },
    {
      "cell_type": "code",
      "metadata": {
        "id": "Vooi1Dm374oQ",
        "colab": {
          "base_uri": "https://localhost:8080/"
        },
        "outputId": "c17cce0c-e732-495b-9c7d-3cb4c6abc569"
      },
      "source": [
        "from sklearn.metrics import confusion_matrix\n",
        "#y_pred = sgd_clf.predict(X_train)\n",
        "confusion_matrix(y_train_5, y_train_predict)"
      ],
      "execution_count": null,
      "outputs": [
        {
          "output_type": "execute_result",
          "data": {
            "text/plain": [
              "array([[43846,   756],\n",
              "       [ 1011,  3387]])"
            ]
          },
          "metadata": {
            "tags": []
          },
          "execution_count": 20
        }
      ]
    },
    {
      "cell_type": "code",
      "metadata": {
        "id": "yGec-4dh74oQ",
        "colab": {
          "base_uri": "https://localhost:8080/"
        },
        "outputId": "524a943b-fb9e-4ef7-ef37-a8268c67d2f6"
      },
      "source": [
        "y_train_perfect = y_train_5\n",
        "confusion_matrix(y_train_5,y_train_perfect)"
      ],
      "execution_count": null,
      "outputs": [
        {
          "output_type": "execute_result",
          "data": {
            "text/plain": [
              "array([[44602,     0],\n",
              "       [    0,  4398]])"
            ]
          },
          "metadata": {
            "tags": []
          },
          "execution_count": 21
        }
      ]
    },
    {
      "cell_type": "code",
      "metadata": {
        "id": "x4m_IoBo74oR",
        "colab": {
          "base_uri": "https://localhost:8080/"
        },
        "outputId": "e5824a70-788b-4d27-e77b-8c1c76d02d34"
      },
      "source": [
        "from sklearn.metrics import precision_score, recall_score\n",
        "print(f'precision:{precision_score(y_train_5,y_train_predict)}')\n",
        "print(f'recall:{recall_score(y_train_5,y_train_predict)}')"
      ],
      "execution_count": null,
      "outputs": [
        {
          "output_type": "stream",
          "text": [
            "precision:0.8175235336712527\n",
            "recall:0.7701227830832197\n"
          ],
          "name": "stdout"
        }
      ]
    },
    {
      "cell_type": "code",
      "metadata": {
        "id": "uJm3i0gn74oS",
        "colab": {
          "base_uri": "https://localhost:8080/"
        },
        "outputId": "1bdef116-94be-44f3-9e83-3cc5db733d3e"
      },
      "source": [
        "from sklearn.metrics import f1_score\n",
        "f1_score(y_train_5,y_train_predict)"
      ],
      "execution_count": null,
      "outputs": [
        {
          "output_type": "execute_result",
          "data": {
            "text/plain": [
              "0.793115560238848"
            ]
          },
          "metadata": {
            "tags": []
          },
          "execution_count": 23
        }
      ]
    },
    {
      "cell_type": "code",
      "metadata": {
        "id": "4B0xFFXu74oT",
        "colab": {
          "base_uri": "https://localhost:8080/"
        },
        "outputId": "8be16455-7bb4-408d-8d54-4f216104d365"
      },
      "source": [
        "y_scores = sgd_clf.decision_function([some_digit])\n",
        "print(y_scores)\n",
        "threshold = 0\n",
        "y_some_digit_pred = (y_scores > threshold)\n",
        "print(y_some_digit_pred)"
      ],
      "execution_count": null,
      "outputs": [
        {
          "output_type": "stream",
          "text": [
            "[3675.34508758]\n",
            "[ True]\n"
          ],
          "name": "stdout"
        }
      ]
    },
    {
      "cell_type": "code",
      "metadata": {
        "id": "ZZFs-YI674oT",
        "colab": {
          "base_uri": "https://localhost:8080/"
        },
        "outputId": "9cb558ae-3b7f-4189-92f2-cb827cada4eb"
      },
      "source": [
        "y_scores = cross_val_predict(sgd_clf, X_train, y_train_5, cv=3,\n",
        "                             method='decision_function')\n",
        "y_scores"
      ],
      "execution_count": null,
      "outputs": [
        {
          "output_type": "execute_result",
          "data": {
            "text/plain": [
              "array([-24865.08827364, -50292.78283928, -25793.36502201, ...,\n",
              "       -10671.00799625, -12738.39920658, -27111.60240149])"
            ]
          },
          "metadata": {
            "tags": []
          },
          "execution_count": 25
        }
      ]
    },
    {
      "cell_type": "code",
      "metadata": {
        "id": "kgHckln174oU",
        "colab": {
          "base_uri": "https://localhost:8080/",
          "height": 265
        },
        "outputId": "cbcf4b46-ad4a-4a90-efdb-0b9667bd208b"
      },
      "source": [
        "from sklearn.metrics import precision_recall_curve\n",
        "\n",
        "precision, recall, threshold = precision_recall_curve(y_train_5, y_scores)\n",
        "\n",
        "def plot_precision_recall_vs_threshold(precisions , recalls, thresholds):\n",
        "    plt.plot(thresholds, precisions[:-1], 'b--',label='precision')\n",
        "    plt.plot(thresholds, recalls[:-1],'g-',label='recall')\n",
        "    plt.legend()\n",
        "\n",
        "plot_precision_recall_vs_threshold(precision, recall, threshold)\n",
        "plt.show()"
      ],
      "execution_count": null,
      "outputs": [
        {
          "output_type": "display_data",
          "data": {
            "image/png": "[encoded data removed]",
            "text/plain": [
              "<Figure size 432x288 with 1 Axes>"
            ]
          },
          "metadata": {
            "tags": [],
            "needs_background": "light"
          }
        }
      ]
    },
    {
      "cell_type": "code",
      "metadata": {
        "id": "xtpufqrg74oV",
        "colab": {
          "base_uri": "https://localhost:8080/",
          "height": 279
        },
        "outputId": "29e4f807-e9c5-4b25-e3e8-687c76bc4f12"
      },
      "source": [
        "def plot_precision_vs_recall(precisions, recalls):\n",
        "    plt.plot(precisions[:-1], recalls[:-1],'b-')\n",
        "    plt.xlabel('recall')\n",
        "    plt.ylabel('precision')\n",
        "\n",
        "plot_precision_vs_recall(precision,recall)\n",
        "plt.show()"
      ],
      "execution_count": null,
      "outputs": [
        {
          "output_type": "display_data",
          "data": {
            "image/png": "[encoded data removed]",
            "text/plain": [
              "<Figure size 432x288 with 1 Axes>"
            ]
          },
          "metadata": {
            "tags": [],
            "needs_background": "light"
          }
        }
      ]
    },
    {
      "cell_type": "code",
      "metadata": {
        "id": "aVSKdiWj74oV",
        "colab": {
          "base_uri": "https://localhost:8080/"
        },
        "outputId": "c3bbadc9-73b7-4c1b-ea74-af5f9fa13a4f"
      },
      "source": [
        "threshold_90_precision = threshold[np.argmax(precision >= 0.90)]\n",
        "threshold_90_precision"
      ],
      "execution_count": null,
      "outputs": [
        {
          "output_type": "execute_result",
          "data": {
            "text/plain": [
              "3201.7233692626583"
            ]
          },
          "metadata": {
            "tags": []
          },
          "execution_count": 28
        }
      ]
    },
    {
      "cell_type": "code",
      "metadata": {
        "id": "lkCVmoJO74oW"
      },
      "source": [
        "y_train_pred_90 =  (y_scores >= threshold_90_precision)"
      ],
      "execution_count": null,
      "outputs": []
    },
    {
      "cell_type": "code",
      "metadata": {
        "id": "ul7KHZ7K74oW",
        "colab": {
          "base_uri": "https://localhost:8080/"
        },
        "outputId": "6b8dfce8-1f38-48d4-f807-ae0bd03dab62"
      },
      "source": [
        "print(precision_score(y_train_5,y_train_pred_90))\n",
        "print(recall_score(y_train_5,y_train_pred_90))"
      ],
      "execution_count": null,
      "outputs": [
        {
          "output_type": "stream",
          "text": [
            "0.9000636537237429\n",
            "0.6430195543428832\n"
          ],
          "name": "stdout"
        }
      ]
    },
    {
      "cell_type": "code",
      "metadata": {
        "id": "wApcdoSp74oW"
      },
      "source": [
        "from sklearn.metrics import roc_curve\n",
        "fpr, tpr, thresholds = roc_curve(y_train_5,y_scores)"
      ],
      "execution_count": null,
      "outputs": []
    },
    {
      "cell_type": "code",
      "metadata": {
        "id": "sRMuY9wS74oX"
      },
      "source": [
        "def plot_roc_curve(fpr, tpr, label=None):\n",
        "    plt.plot(fpr, tpr, linewidth=2, label=label)\n",
        "    plt.plot([0,1],[0,1], 'k--')\n",
        "    plt.xlabel('false positive rate')\n",
        "    plt.ylabel('true positive rate(recall)')\n"
      ],
      "execution_count": null,
      "outputs": []
    },
    {
      "cell_type": "code",
      "metadata": {
        "id": "0WkAiQly74oX",
        "colab": {
          "base_uri": "https://localhost:8080/",
          "height": 279
        },
        "outputId": "76028e00-f619-4f4e-a085-06061edf4e7a"
      },
      "source": [
        "plot_roc_curve(fpr, tpr)\n",
        "plt.show()"
      ],
      "execution_count": null,
      "outputs": [
        {
          "output_type": "display_data",
          "data": {
            "image/png": "[encoded data removed]",
            "text/plain": [
              "<Figure size 432x288 with 1 Axes>"
            ]
          },
          "metadata": {
            "tags": [],
            "needs_background": "light"
          }
        }
      ]
    },
    {
      "cell_type": "code",
      "metadata": {
        "id": "PrhHr79P74oY",
        "colab": {
          "base_uri": "https://localhost:8080/"
        },
        "outputId": "f257503d-6bfe-4a41-c427-2f0c6a0d2583"
      },
      "source": [
        "from sklearn.metrics import roc_auc_score\n",
        "roc_auc_score(y_train_5,y_scores)"
      ],
      "execution_count": null,
      "outputs": [
        {
          "output_type": "execute_result",
          "data": {
            "text/plain": [
              "0.9644408219519376"
            ]
          },
          "metadata": {
            "tags": []
          },
          "execution_count": 34
        }
      ]
    },
    {
      "cell_type": "code",
      "metadata": {
        "id": "xhft__5Z74oY"
      },
      "source": [
        "from sklearn.ensemble import RandomForestClassifier\n",
        "\n",
        "forest_clf = RandomForestClassifier(random_state=42)\n",
        "y_probas_forest = cross_val_predict(forest_clf, X_train, y_train_5, cv=3, #cv is the number of folds\n",
        "                                    method='predict_proba')"
      ],
      "execution_count": null,
      "outputs": []
    },
    {
      "cell_type": "code",
      "metadata": {
        "id": "-P4SOOl274oY"
      },
      "source": [
        "y_scores_forest = y_probas_forest[:,1]\n",
        "fpr_forest, tpr_forest, thresholds_forest = roc_curve(y_train_5, y_scores_forest)"
      ],
      "execution_count": null,
      "outputs": []
    },
    {
      "cell_type": "code",
      "metadata": {
        "id": "nXAFVma-74oZ",
        "colab": {
          "base_uri": "https://localhost:8080/",
          "height": 279
        },
        "outputId": "bfa9c33a-2a01-434e-b1a7-4690282e2496"
      },
      "source": [
        "plt.plot(fpr, tpr, 'b:', label='SGD')\n",
        "plot_roc_curve(fpr_forest,tpr_forest,'Random Forest')\n",
        "plt.legend(loc='lower right')\n",
        "plt.show()"
      ],
      "execution_count": null,
      "outputs": [
        {
          "output_type": "display_data",
          "data": {
            "image/png": "[encoded data removed]",
            "text/plain": [
              "<Figure size 432x288 with 1 Axes>"
            ]
          },
          "metadata": {
            "tags": [],
            "needs_background": "light"
          }
        }
      ]
    },
    {
      "cell_type": "code",
      "metadata": {
        "id": "UvVhISBH74oZ",
        "colab": {
          "base_uri": "https://localhost:8080/"
        },
        "outputId": "1cc270ab-220d-470b-83a8-a3c60669eab4"
      },
      "source": [
        "from sklearn.svm import SVC\r\n",
        "svm_clf = SVC()\r\n",
        "svm_clf.fit(X_train, y_train)\r\n",
        "svm_clf.predict([some_digit])"
      ],
      "execution_count": null,
      "outputs": [
        {
          "output_type": "execute_result",
          "data": {
            "text/plain": [
              "array([5], dtype=uint8)"
            ]
          },
          "metadata": {
            "tags": []
          },
          "execution_count": 38
        }
      ]
    },
    {
      "cell_type": "code",
      "metadata": {
        "id": "1B6aLx988i0t",
        "colab": {
          "base_uri": "https://localhost:8080/",
          "height": 282
        },
        "outputId": "ada0b02e-75b6-4c2d-9ec1-16c548c5efaa"
      },
      "source": [
        "some_digit_2 = X_test[9]\r\n",
        "some_digit_2_image = some_digit_2.reshape(28,28)\r\n",
        "plt.imshow(some_digit_2_image,cmap='binary')"
      ],
      "execution_count": null,
      "outputs": [
        {
          "output_type": "execute_result",
          "data": {
            "text/plain": [
              "<matplotlib.image.AxesImage at 0x7f59bfed7518>"
            ]
          },
          "metadata": {
            "tags": []
          },
          "execution_count": 39
        },
        {
          "output_type": "display_data",
          "data": {
            "image/png": "[encoded data removed]",
            "text/plain": [
              "<Figure size 432x288 with 1 Axes>"
            ]
          },
          "metadata": {
            "tags": [],
            "needs_background": "light"
          }
        }
      ]
    },
    {
      "cell_type": "code",
      "metadata": {
        "id": "AYSWq8-CDJfF",
        "colab": {
          "base_uri": "https://localhost:8080/"
        },
        "outputId": "bccfab96-4efd-458d-d906-47a18b1f061d"
      },
      "source": [
        "svm_clf.predict([some_digit_2])"
      ],
      "execution_count": null,
      "outputs": [
        {
          "output_type": "execute_result",
          "data": {
            "text/plain": [
              "array([4], dtype=uint8)"
            ]
          },
          "metadata": {
            "tags": []
          },
          "execution_count": 41
        }
      ]
    },
    {
      "cell_type": "code",
      "metadata": {
        "id": "tHQOgdxR_FuJ",
        "colab": {
          "base_uri": "https://localhost:8080/"
        },
        "outputId": "a7d4fbf0-a154-4e5f-db8e-e7343c149e6c"
      },
      "source": [
        "some_digit_score = svm_clf.decision_function([some_digit])\r\n",
        "some_digit_score"
      ],
      "execution_count": null,
      "outputs": [
        {
          "output_type": "execute_result",
          "data": {
            "text/plain": [
              "array([[ 1.7207467 ,  1.72604112,  7.24850305,  8.30569427, -0.31062893,\n",
              "         9.31328015,  2.71434118,  2.7962347 ,  6.21022397,  4.92387044]])"
            ]
          },
          "metadata": {
            "tags": []
          },
          "execution_count": 42
        }
      ]
    },
    {
      "cell_type": "markdown",
      "metadata": {
        "id": "9rvYW6ZILRTl"
      },
      "source": [
        "Using a simple scale of the features can improve the accuracy of the learning algoithm"
      ]
    },
    {
      "cell_type": "code",
      "metadata": {
        "id": "54avN1WpLeKd",
        "colab": {
          "base_uri": "https://localhost:8080/"
        },
        "outputId": "1344a1bf-3cbf-4805-be68-422e46c94f20"
      },
      "source": [
        "from sklearn.preprocessing import StandardScaler\r\n",
        "scaler = StandardScaler()\r\n",
        "X_train_scaled = scaler.fit_transform(X_train.astype(np.float64))\r\n",
        "cross_val_score(sgd_clf, X_train_scaled, y_train, cv=3, scoring='accuracy')"
      ],
      "execution_count": null,
      "outputs": [
        {
          "output_type": "execute_result",
          "data": {
            "text/plain": [
              "array([0.90730991, 0.9024674 , 0.8986714 ])"
            ]
          },
          "metadata": {
            "tags": []
          },
          "execution_count": 43
        }
      ]
    },
    {
      "cell_type": "code",
      "metadata": {
        "id": "7E8g81fqMKA4",
        "colab": {
          "base_uri": "https://localhost:8080/"
        },
        "outputId": "5e46fb69-8c51-47de-bcb8-ca8d7c931f7e"
      },
      "source": [
        "y_pred = cross_val_predict(sgd_clf, X_train_scaled, y_train, cv=3, )\r\n",
        "conf_mx = confusion_matrix(y_train,y_pred)\r\n",
        "conf_mx"
      ],
      "execution_count": null,
      "outputs": [
        {
          "output_type": "execute_result",
          "data": {
            "text/plain": [
              "array([[4593,    0,   15,    7,    6,   32,   33,    5,  152,    2],\n",
              "       [   1, 5265,   35,   11,    2,   29,    8,   10,  141,   11],\n",
              "       [  23,   20, 4289,   66,   55,   21,   53,   36,  284,   10],\n",
              "       [  19,   15,   95, 4263,    1,  169,   22,   37,  289,   55],\n",
              "       [  10,   12,   44,    5, 4399,    9,   27,   28,  207,  147],\n",
              "       [  27,   16,   22,  114,   44, 3648,   73,   16,  372,   66],\n",
              "       [  28,   16,   41,    1,   35,   70, 4485,    6,  106,    0],\n",
              "       [  14,   14,   49,   18,   37,    7,    3, 4590,  105,  208],\n",
              "       [  14,   54,   41,   68,    3,  110,   23,    6, 4466,   48],\n",
              "       [  16,   17,   18,   52,  125,   35,    1,  130,  234, 4240]])"
            ]
          },
          "metadata": {
            "tags": []
          },
          "execution_count": 45
        }
      ]
    },
    {
      "cell_type": "code",
      "metadata": {
        "id": "qLh23mVvN1ge",
        "colab": {
          "base_uri": "https://localhost:8080/",
          "height": 275
        },
        "outputId": "a17049f2-a737-4bd3-86a9-00cb606d837d"
      },
      "source": [
        "plt.matshow(conf_mx, cmap=plt.cm.gray)\r\n",
        "plt.show()"
      ],
      "execution_count": null,
      "outputs": [
        {
          "output_type": "display_data",
          "data": {
            "image/png": "[encoded data removed]",
            "text/plain": [
              "<Figure size 288x288 with 1 Axes>"
            ]
          },
          "metadata": {
            "tags": [],
            "needs_background": "light"
          }
        }
      ]
    },
    {
      "cell_type": "code",
      "metadata": {
        "id": "1V3H4fUlN_0z"
      },
      "source": [
        "row_sums = conf_mx.sum(axis=1, keepdims=True)\r\n",
        "norm_conf_mx = conf_mx / row_sums"
      ],
      "execution_count": null,
      "outputs": []
    },
    {
      "cell_type": "code",
      "metadata": {
        "id": "y5XN0K1dPjUM",
        "colab": {
          "base_uri": "https://localhost:8080/",
          "height": 275
        },
        "outputId": "4408c634-17df-4726-93ce-d4f3388b235f"
      },
      "source": [
        "np.fill_diagonal(norm_conf_mx, 0)\r\n",
        "plt.matshow(norm_conf_mx, cmap=plt.cm.gray)\r\n",
        "plt.show()"
      ],
      "execution_count": null,
      "outputs": [
        {
          "output_type": "display_data",
          "data": {
            "image/png": "[encoded data removed]",
            "text/plain": [
              "<Figure size 288x288 with 1 Axes>"
            ]
          },
          "metadata": {
            "tags": [],
            "needs_background": "light"
          }
        }
      ]
    },
    {
      "cell_type": "code",
      "metadata": {
        "id": "30xVMkdklRw2"
      },
      "source": [
        ""
      ],
      "execution_count": null,
      "outputs": []
    },
    {
      "cell_type": "markdown",
      "metadata": {
        "id": "f4ACsUIulSsP"
      },
      "source": [
        "Multilabel classification"
      ]
    },
    {
      "cell_type": "code",
      "metadata": {
        "id": "Td_q7FzsP5pA",
        "colab": {
          "base_uri": "https://localhost:8080/"
        },
        "outputId": "5f541bc7-beec-4ee3-de3d-e2bd91f1af23"
      },
      "source": [
        "from sklearn.neighbors import KNeighborsClassifier\r\n",
        "\r\n",
        "y_train_large = (y_train >= 7)\r\n",
        "y_train_odd = (y_train % 2 == 1)\r\n",
        "y_multilabel = np.c_[y_train_large, y_train_odd]\r\n",
        "\r\n",
        "knn_clf = KNeighborsClassifier()\r\n",
        "knn_clf.fit(X_train, y_multilabel)"
      ],
      "execution_count": null,
      "outputs": [
        {
          "output_type": "execute_result",
          "data": {
            "text/plain": [
              "KNeighborsClassifier(algorithm='auto', leaf_size=30, metric='minkowski',\n",
              "                     metric_params=None, n_jobs=None, n_neighbors=5, p=2,\n",
              "                     weights='uniform')"
            ]
          },
          "metadata": {
            "tags": []
          },
          "execution_count": 50
        }
      ]
    },
    {
      "cell_type": "code",
      "metadata": {
        "id": "uBxeY1K8jeI1",
        "colab": {
          "base_uri": "https://localhost:8080/"
        },
        "outputId": "629bb7e1-4c6b-4c35-87b6-faba55c09262"
      },
      "source": [
        "knn_clf.predict([some_digit])"
      ],
      "execution_count": null,
      "outputs": [
        {
          "output_type": "execute_result",
          "data": {
            "text/plain": [
              "array([[False,  True]])"
            ]
          },
          "metadata": {
            "tags": []
          },
          "execution_count": 51
        }
      ]
    },
    {
      "cell_type": "markdown",
      "metadata": {
        "id": "jj3hnVKtlNBO"
      },
      "source": [
        "multioutput\r\n"
      ]
    },
    {
      "cell_type": "code",
      "metadata": {
        "id": "TkQEvj-9kE22"
      },
      "source": [
        "noise = np.random.randint(0, 100, (len(X_train),784))\r\n",
        "X_train_mod = X_train + noise\r\n",
        "noise = np.random.randint(0, 100, (len(X_test),784))\r\n",
        "X_test_mod = X_test + noise\r\n",
        "y_train_mod = X_train\r\n",
        "y_test_mod = X_test"
      ],
      "execution_count": null,
      "outputs": []
    },
    {
      "cell_type": "code",
      "metadata": {
        "id": "F2FRlv77mTIY",
        "colab": {
          "base_uri": "https://localhost:8080/",
          "height": 282
        },
        "outputId": "891a326c-5dea-404e-97ed-1c861d5cef09"
      },
      "source": [
        "knn_clf.fit(X_train_mod, y_train_mod)\r\n",
        "clean_digit = knn_clf.predict([X_test_mod[5]])\r\n",
        "plt.imshow(clean_digit.reshape(28,28))"
      ],
      "execution_count": null,
      "outputs": [
        {
          "output_type": "execute_result",
          "data": {
            "text/plain": [
              "<matplotlib.image.AxesImage at 0x7f59b5d43860>"
            ]
          },
          "metadata": {
            "tags": []
          },
          "execution_count": 53
        },
        {
          "output_type": "display_data",
          "data": {
            "image/png": "[encoded data removed]",
            "text/plain": [
              "<Figure size 432x288 with 1 Axes>"
            ]
          },
          "metadata": {
            "tags": [],
            "needs_background": "light"
          }
        }
      ]
    },
    {
      "cell_type": "code",
      "metadata": {
        "id": "bS0CPgyimuhK"
      },
      "source": [
        ""
      ],
      "execution_count": null,
      "outputs": []
    }
  ]
}